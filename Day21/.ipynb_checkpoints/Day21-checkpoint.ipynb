{
 "cells": [
  {
   "cell_type": "code",
   "execution_count": 15,
   "id": "88a37a68-cc8e-4ba7-ae79-3ab957313eff",
   "metadata": {},
   "outputs": [
    {
     "name": "stdout",
     "output_type": "stream",
     "text": [
      "152.0\n"
     ]
    }
   ],
   "source": [
    "def parseEquation(eq, eqMonks, numMonks):\n",
    "    cmd = eq.split(\" \")\n",
    "    monkey1 = cmd[0]\n",
    "    monkey2 = cmd[2]\n",
    "    op = cmd[1]\n",
    "    \n",
    "    number1 = -1\n",
    "    number2 = -1\n",
    "    while number1 < 0:\n",
    "        if monkey1 in numMonks:\n",
    "            number1 = numMonks[monkey1]\n",
    "        else:\n",
    "            number1 = parseEquation(eqMonks[monkey1], eqMonks, numMonks)\n",
    "        \n",
    "    while number2 < 0:\n",
    "        if monkey2 in numMonks:\n",
    "            number2 = numMonks[monkey2]\n",
    "        else:\n",
    "            number2 = parseEquation(eqMonks[monkey2], eqMonks, numMonks)\n",
    "    \n",
    "    result = 0\n",
    "    match(op):\n",
    "        case \"+\":\n",
    "            result = number1 + number2\n",
    "        case \"-\":\n",
    "            result = number1 - number2\n",
    "        case \"*\":\n",
    "            result = number1 * number2\n",
    "        case \"/\":\n",
    "            result = number1 / number2\n",
    "            \n",
    "    return result\n",
    "\n",
    "equationMonkeys = {}\n",
    "numberMonkeys = {}\n",
    "\n",
    "with open(\"test21.txt\") as monkeys:\n",
    "    for line in monkeys:\n",
    "        cmds = line.split(\" \")\n",
    "        if len(cmds) == 2:\n",
    "            numberMonkeys[cmds[0][:-1]] = int(cmds[1].strip())\n",
    "        else:\n",
    "            equationMonkeys[cmds[0][:-1]] = f\"{cmds[1]} {cmds[2]} {cmds[3].strip()}\"\n",
    "            \n",
    "result = parseEquation(equationMonkeys[\"root\"], equationMonkeys, numberMonkeys)\n",
    "print(result)"
   ]
  }
 ],
 "metadata": {
  "kernelspec": {
   "display_name": "Python 3 (ipykernel)",
   "language": "python",
   "name": "python3"
  },
  "language_info": {
   "codemirror_mode": {
    "name": "ipython",
    "version": 3
   },
   "file_extension": ".py",
   "mimetype": "text/x-python",
   "name": "python",
   "nbconvert_exporter": "python",
   "pygments_lexer": "ipython3",
   "version": "3.10.7"
  }
 },
 "nbformat": 4,
 "nbformat_minor": 5
}
