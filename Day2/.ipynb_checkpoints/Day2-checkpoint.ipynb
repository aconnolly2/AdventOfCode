{
 "cells": [
  {
   "cell_type": "code",
   "execution_count": null,
   "id": "3886e5ab-8d82-4e54-b0fc-7d0aca8841a4",
   "metadata": {},
   "outputs": [],
   "source": [
    "input = open(\"Input.txt\")\n",
    "\n",
    "\n",
    "\n",
    "input.close()"
   ]
  }
 ],
 "metadata": {
  "kernelspec": {
   "display_name": "Python 3 (ipykernel)",
   "language": "python",
   "name": "python3"
  },
  "language_info": {
   "codemirror_mode": {
    "name": "ipython",
    "version": 3
   },
   "file_extension": ".py",
   "mimetype": "text/x-python",
   "name": "python",
   "nbconvert_exporter": "python",
   "pygments_lexer": "ipython3",
   "version": "3.10.7"
  }
 },
 "nbformat": 4,
 "nbformat_minor": 5
}
