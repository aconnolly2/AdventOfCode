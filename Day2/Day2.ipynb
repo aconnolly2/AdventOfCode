{
 "cells": [
  {
   "cell_type": "code",
   "execution_count": 7,
   "id": "3886e5ab-8d82-4e54-b0fc-7d0aca8841a4",
   "metadata": {},
   "outputs": [],
   "source": [
    "input = open(\"Input.txt\")\n",
    "\n",
    "# A: Rock\n",
    "# B: Paper\n",
    "# C: Scissors\n",
    "\n",
    "# X: Rock\n",
    "# Y: Paper\n",
    "# Z: Scissors\n",
    "\n",
    "# Scoring:\n",
    "# Rock: 1\n",
    "# Paper: 2\n",
    "# Scissors: 3\n",
    "# Loss: 0\n",
    "# Draw: 3\n",
    "# Win: 6\n",
    "\n",
    "oppMoves = []\n",
    "myMoves = []\n",
    "for line in input:\n",
    "    oppMoves.append(line[0])\n",
    "    myMoves.append(line[2])\n",
    "\n",
    "input.close()"
   ]
  },
  {
   "cell_type": "code",
   "execution_count": 8,
   "id": "194fd63b-e017-4744-bcba-8d720e9d1e40",
   "metadata": {},
   "outputs": [
    {
     "name": "stdout",
     "output_type": "stream",
     "text": [
      "12458\n"
     ]
    }
   ],
   "source": [
    "# Part 1\n",
    "totalScore = 0\n",
    "index = 0\n",
    "for move in myMoves:\n",
    "    oppMove = oppMoves[index]\n",
    "    if (move == 'X'): # Rock\n",
    "        totalScore += 1\n",
    "        if (oppMove == 'A'): # Rock\n",
    "            totalScore += 3\n",
    "        elif (oppMove == 'B'): # Paper\n",
    "            totalScore += 0\n",
    "        elif (oppMove == 'C'): # Scissors\n",
    "            totalScore += 6\n",
    "    elif (move == 'Y'): # Paper\n",
    "        totalScore += 2\n",
    "        if (oppMove == 'A'): # Rock\n",
    "            totalScore += 6\n",
    "        elif (oppMove == 'B'): # Paper\n",
    "            totalScore += 3\n",
    "        elif (oppMove == 'C'): # Scissors\n",
    "            totalScore += 0\n",
    "    elif (move == 'Z'): # Scissors\n",
    "        totalScore += 3\n",
    "        if (oppMove == 'A'): # Rock\n",
    "            totalScore += 0\n",
    "        elif (oppMove == 'B'): # Paper\n",
    "            totalScore += 6\n",
    "        elif (oppMove == 'C'): # Scissors\n",
    "            totalScore += 3\n",
    "        \n",
    "    index += 1\n",
    "    \n",
    "print(totalScore)"
   ]
  },
  {
   "cell_type": "code",
   "execution_count": 9,
   "id": "f752d4cb-33d1-4be9-9161-199e963cc042",
   "metadata": {},
   "outputs": [
    {
     "name": "stdout",
     "output_type": "stream",
     "text": [
      "12683\n"
     ]
    }
   ],
   "source": [
    "# Part 2\n",
    "# X: Lose\n",
    "# Y: Draw\n",
    "# Z: Win\n",
    "# Scoring:\n",
    "# Rock: 1\n",
    "# Paper: 2\n",
    "# Scissors: 3\n",
    "totalScore = 0\n",
    "index = 0\n",
    "for move in oppMoves:\n",
    "    myMove = myMoves[index]\n",
    "        \n",
    "    if (move == 'A'): # Rock\n",
    "        if (myMove == 'X'):\n",
    "            # Lose with Scissors\n",
    "            totalScore += 3\n",
    "        elif (myMove == 'Y'):\n",
    "            # Draw with Rock\n",
    "            totalScore += 4\n",
    "        elif (myMove == 'Z'):\n",
    "            # Win with Paper\n",
    "            totalScore += 8\n",
    "    elif (move == 'B'): # Paper\n",
    "        if (myMove == 'X'):\n",
    "            # Lose with Rock\n",
    "            totalScore += 1\n",
    "        elif (myMove == 'Y'):\n",
    "            # Draw with Paper\n",
    "            totalScore += 5\n",
    "        elif (myMove == 'Z'):\n",
    "            # Win with Scissors\n",
    "            totalScore += 9\n",
    "    elif (move == 'C'): # Scissors        \n",
    "        if (myMove == 'X'):\n",
    "            # Lose with Paper\n",
    "            totalScore += 2\n",
    "        elif (myMove == 'Y'):\n",
    "            # Draw with Scissors\n",
    "            totalScore += 6\n",
    "        elif (myMove == 'Z'):\n",
    "            # Win with Rock\n",
    "            totalScore += 7\n",
    "        \n",
    "    index += 1\n",
    "    \n",
    "print(totalScore)"
   ]
  }
 ],
 "metadata": {
  "kernelspec": {
   "display_name": "Python 3 (ipykernel)",
   "language": "python",
   "name": "python3"
  },
  "language_info": {
   "codemirror_mode": {
    "name": "ipython",
    "version": 3
   },
   "file_extension": ".py",
   "mimetype": "text/x-python",
   "name": "python",
   "nbconvert_exporter": "python",
   "pygments_lexer": "ipython3",
   "version": "3.10.7"
  }
 },
 "nbformat": 4,
 "nbformat_minor": 5
}
