{
 "cells": [
  {
   "cell_type": "code",
   "execution_count": 33,
   "id": "3efce360-51d2-45e8-9bfa-ce4fd2af3b37",
   "metadata": {},
   "outputs": [
    {
     "name": "stdout",
     "output_type": "stream",
     "text": [
      "['Z', 'T', 'F', 'R', 'W', 'J', 'G']\n",
      "['G', 'W', 'M']\n",
      "['J', 'N', 'H', 'G']\n",
      "['J', 'R', 'C', 'N', 'W']\n",
      "['W', 'F', 'S', 'B', 'G', 'Q', 'V', 'M']\n",
      "['S', 'R', 'T', 'D', 'V', 'W', 'C']\n",
      "['H', 'B', 'N', 'C', 'D', 'Z', 'G', 'V']\n",
      "['S', 'J', 'N', 'M', 'G', 'C']\n",
      "['G', 'P', 'N', 'W', 'C', 'J', 'D', 'L']\n"
     ]
    }
   ],
   "source": [
    "start = open(\"StartInput.txt\")\n",
    "\n",
    "positionCount = 9\n",
    "positions = [[]for _ in range(positionCount)]\n",
    "\n",
    "for line in start:\n",
    "    # Positions 1-9:\n",
    "    # 1, 5, 9, 13, 17, 21, 25, 29, 33\n",
    "    for i in range(positionCount):\n",
    "        crate = line[i*4 + 1]\n",
    "        if (crate != \" \"):\n",
    "            positions[i].insert(0, crate)\n",
    "\n",
    "start.close()\n",
    "\n",
    "for row in positions:\n",
    "    print(row)\n",
    "\n",
    "moves = open(\"MoveInput.txt\")\n",
    "\n",
    "moveQuant = []\n",
    "moveFrom = []\n",
    "moveTo = []\n",
    "\n",
    "for line in moves:\n",
    "    move = line.split(\" \")\n",
    "    moveQuant.append(int(move[1]))\n",
    "    moveFrom.append(int(move[3]))\n",
    "    moveTo.append(int(move[5]))\n",
    "\n",
    "moves.close()"
   ]
  },
  {
   "cell_type": "code",
   "execution_count": 32,
   "id": "63dca8ec-1257-4d93-9bf6-6c63d63ca44d",
   "metadata": {},
   "outputs": [
    {
     "name": "stdout",
     "output_type": "stream",
     "text": [
      "['B', 'D', 'T', 'J', 'D', 'V', 'R', 'H', 'G', 'C']\n",
      "['S', 'M', 'N', 'W', 'W']\n",
      "['M', 'S', 'C', 'M']\n",
      "['P', 'V', 'Z', 'Q', 'J', 'F', 'G', 'Z', 'W', 'N', 'V', 'G', 'C', 'J', 'C', 'R', 'L', 'N', 'F', 'G', 'N', 'R', 'J', 'W', 'C', 'G', 'T']\n",
      "['G']\n",
      "['H']\n",
      "['B']\n",
      "['W', 'N', 'S', 'G', 'D']\n",
      "['J', 'W']\n",
      "CWMTGHBDW\n"
     ]
    }
   ],
   "source": [
    "# Part 1\n",
    "\n",
    "for move in range(len(moveQuant)):\n",
    "    for m in range(moveQuant[move]):\n",
    "        crate = positions[moveFrom[move] - 1].pop()\n",
    "        positions[moveTo[move] - 1].append(crate)\n",
    "        \n",
    "\n",
    "    \n",
    "results = \"\"\n",
    "\n",
    "for row in positions:\n",
    "    print(row)\n",
    "    results += row.pop()\n",
    "    \n",
    "print(results)"
   ]
  },
  {
   "cell_type": "code",
   "execution_count": 34,
   "id": "29b48b18-77d7-4e67-bae2-f26bafbb46e6",
   "metadata": {},
   "outputs": [
    {
     "name": "stdout",
     "output_type": "stream",
     "text": [
      "['G', 'N', 'M', 'G', 'V', 'N', 'B', 'V', 'T', 'S']\n",
      "['V', 'W', 'N', 'R', 'S']\n",
      "['R', 'Q', 'Z', 'C']\n",
      "['J', 'H', 'N', 'G', 'G', 'D', 'D', 'C', 'W', 'C', 'W', 'W', 'T', 'C', 'F', 'S', 'P', 'G', 'D', 'Z', 'G', 'J', 'J', 'L', 'M', 'F', 'G']\n",
      "['W']\n",
      "['J']\n",
      "['C']\n",
      "['H', 'W', 'M', 'N', 'R']\n",
      "['J', 'B']\n",
      "SSCGWJCRB\n"
     ]
    }
   ],
   "source": [
    "# Part 2\n",
    "\n",
    "for move in range(len(moveQuant)):\n",
    "    stack = []\n",
    "    for m in range(moveQuant[move]):\n",
    "        crate = positions[moveFrom[move] - 1].pop()\n",
    "        stack.insert(0, crate)\n",
    "        \n",
    "    for c in stack:\n",
    "        positions[moveTo[move] - 1].append(c)\n",
    "        \n",
    "\n",
    "    \n",
    "results = \"\"\n",
    "\n",
    "for row in positions:\n",
    "    print(row)\n",
    "    results += row.pop()\n",
    "    \n",
    "print(results)"
   ]
  }
 ],
 "metadata": {
  "kernelspec": {
   "display_name": "Python 3 (ipykernel)",
   "language": "python",
   "name": "python3"
  },
  "language_info": {
   "codemirror_mode": {
    "name": "ipython",
    "version": 3
   },
   "file_extension": ".py",
   "mimetype": "text/x-python",
   "name": "python",
   "nbconvert_exporter": "python",
   "pygments_lexer": "ipython3",
   "version": "3.10.7"
  }
 },
 "nbformat": 4,
 "nbformat_minor": 5
}
