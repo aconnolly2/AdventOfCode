{
 "cells": [
  {
   "cell_type": "code",
   "execution_count": 64,
   "id": "06910161-8a45-4cdb-ba24-ecbf862bdf41",
   "metadata": {},
   "outputs": [
    {
     "name": "stdout",
     "output_type": "stream",
     "text": [
      "2215\n"
     ]
    }
   ],
   "source": [
    "class element:\n",
    "    def __init__(self, value):\n",
    "        self.value = value\n",
    "\n",
    "codeList = []\n",
    "sequencedCodeList = {}\n",
    "\n",
    "index = 0\n",
    "zeroObjRef = None\n",
    "with open(\"code.txt\") as code:\n",
    "    for line in code:\n",
    "        obj = element(int(line.strip()))\n",
    "        if obj.value == 0:\n",
    "            zeroObjRef = obj\n",
    "        codeList.append(obj)\n",
    "        sequencedCodeList[index] = obj\n",
    "        index += 1\n",
    "\n",
    "for i in range(len(sequencedCodeList)):\n",
    "    index = codeList.index(sequencedCodeList[i])\n",
    "    val = sequencedCodeList[i].value\n",
    "    newPos = (index + val) % (len(sequencedCodeList) - 1)\n",
    "    if newPos == 0:\n",
    "        newPos = len(sequencedCodeList) - 1\n",
    "    del codeList[codeList.index(sequencedCodeList[i])]\n",
    "    #print(f\"{sequencedCodeList[i].value} at {index} moves to {newPos}\")\n",
    "    newEl = element(sequencedCodeList[i].value)\n",
    "    if newEl.value == 0:\n",
    "        zeroObjRef = newEl\n",
    "    codeList.insert(newPos, newEl)\n",
    "    #s = \"\"\n",
    "    #for e in codeList:\n",
    "    #    s += f\"{e.value},\"\n",
    "    #    \n",
    "    #print(s)\n",
    "\n",
    "zeroIndex = codeList.index(zeroObjRef)\n",
    "x = (zeroIndex + 1000) % len(sequencedCodeList)\n",
    "y = (zeroIndex + 2000) % len(sequencedCodeList)\n",
    "z = (zeroIndex + 3000) % len(sequencedCodeList)\n",
    "target = codeList[x].value + codeList[y].value + codeList[z].value\n",
    "print(target)"
   ]
  },
  {
   "cell_type": "code",
   "execution_count": null,
   "id": "f9e6f618-ee8b-4c07-afa9-a85a3a72c333",
   "metadata": {},
   "outputs": [],
   "source": [
    "class element:\n",
    "    def __init__(self, value):\n",
    "        self.value = value\n",
    "\n",
    "codeList = []\n",
    "sequencedCodeList = {}\n",
    "decryptionKey = 811589153\n",
    "\n",
    "index = 0\n",
    "zeroObjRef = None\n",
    "with open(\"code.txt\") as code:\n",
    "    for line in code:\n",
    "        obj = element(int(line.strip()) * decryptionKey)\n",
    "        if obj.value == 0:\n",
    "            zeroObjRef = obj\n",
    "        codeList.append(obj)\n",
    "        sequencedCodeList[index] = obj\n",
    "        index += 1\n",
    "\n",
    "for i in range(len(sequencedCodeList)):\n",
    "    index = codeList.index(sequencedCodeList[i])\n",
    "    val = sequencedCodeList[i].value\n",
    "    newPos = (index + val) % (len(sequencedCodeList) - 1)\n",
    "    if newPos == 0:\n",
    "        newPos = len(sequencedCodeList) - 1\n",
    "    del codeList[codeList.index(sequencedCodeList[i])]\n",
    "    #print(f\"{sequencedCodeList[i].value} at {index} moves to {newPos}\")\n",
    "    newEl = element(sequencedCodeList[i].value)\n",
    "    if newEl.value == 0:\n",
    "        zeroObjRef = newEl\n",
    "    codeList.insert(newPos, newEl)\n",
    "    #s = \"\"\n",
    "    #for e in codeList:\n",
    "    #    s += f\"{e.value},\"\n",
    "    #    \n",
    "    #print(s)\n",
    "\n",
    "zeroIndex = codeList.index(zeroObjRef)\n",
    "x = (zeroIndex + 1000) % len(sequencedCodeList)\n",
    "y = (zeroIndex + 2000) % len(sequencedCodeList)\n",
    "z = (zeroIndex + 3000) % len(sequencedCodeList)\n",
    "target = codeList[x].value + codeList[y].value + codeList[z].value\n",
    "print(target)\n"
   ]
  }
 ],
 "metadata": {
  "kernelspec": {
   "display_name": "Python 3 (ipykernel)",
   "language": "python",
   "name": "python3"
  },
  "language_info": {
   "codemirror_mode": {
    "name": "ipython",
    "version": 3
   },
   "file_extension": ".py",
   "mimetype": "text/x-python",
   "name": "python",
   "nbconvert_exporter": "python",
   "pygments_lexer": "ipython3",
   "version": "3.10.7"
  }
 },
 "nbformat": 4,
 "nbformat_minor": 5
}
