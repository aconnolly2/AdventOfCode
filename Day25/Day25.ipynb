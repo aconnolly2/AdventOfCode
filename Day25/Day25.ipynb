{
 "cells": [
  {
   "cell_type": "code",
   "execution_count": 66,
   "id": "5f59f50e-fefd-47ab-a12e-2b94262b103d",
   "metadata": {},
   "outputs": [
    {
     "name": "stdout",
     "output_type": "stream",
     "text": [
      "32969743607087\n",
      "2-=102--02--=1-12=22\n"
     ]
    }
   ],
   "source": [
    "def snafu2dec(snafu):\n",
    "    l = []\n",
    "    for c in snafu:\n",
    "        l.insert(0, c)\n",
    "    newVal = 0\n",
    "    for i, n in enumerate(l):\n",
    "        mul = 5**i\n",
    "        match(n):\n",
    "            case(\"2\"):\n",
    "                newVal += mul*2\n",
    "            case(\"1\"):\n",
    "                newVal += mul*1\n",
    "            case(\"0\"):\n",
    "                pass\n",
    "            case(\"-\"):\n",
    "                newVal += mul*-1\n",
    "            case(\"=\"):\n",
    "                newVal += mul*-2\n",
    "    return newVal\n",
    "\n",
    "def maximal(index):\n",
    "    total = 0\n",
    "    for x in range(index + 1):\n",
    "        total += (5**x)*2\n",
    "    return total\n",
    "\n",
    "def convertElvish(decimal):\n",
    "    # Get length to be converted\n",
    "    snafu = []\n",
    "    val = decimal\n",
    "    while val != 0:\n",
    "        val, rem = divmod(val, 5)\n",
    "        if rem < 3:\n",
    "            snafu.append(str(rem))\n",
    "            carry = 0\n",
    "        elif rem == 3:\n",
    "            snafu.append(\"=\")\n",
    "            carry = 1\n",
    "        else:\n",
    "            snafu.append(\"-\")\n",
    "            carry = 1\n",
    "        val += carry\n",
    "    return \"\".join(snafu[::-1])\n",
    "\n",
    "converted = []\n",
    "\n",
    "with open(\"xmas.txt\") as codedVals:\n",
    "    toTranslate = []\n",
    "    for line in codedVals:\n",
    "        converted.append(snafu2dec(line.strip()))\n",
    "\n",
    "decTotal = sum(converted)\n",
    "print(decTotal)\n",
    "print(convertElvish(decTotal))"
   ]
  }
 ],
 "metadata": {
  "kernelspec": {
   "display_name": "Python 3 (ipykernel)",
   "language": "python",
   "name": "python3"
  },
  "language_info": {
   "codemirror_mode": {
    "name": "ipython",
    "version": 3
   },
   "file_extension": ".py",
   "mimetype": "text/x-python",
   "name": "python",
   "nbconvert_exporter": "python",
   "pygments_lexer": "ipython3",
   "version": "3.10.7"
  }
 },
 "nbformat": 4,
 "nbformat_minor": 5
}
