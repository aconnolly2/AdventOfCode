{
 "cells": [
  {
   "cell_type": "code",
   "execution_count": 6,
   "id": "227e48fc-32c7-4d2e-9b90-33d8ec74089f",
   "metadata": {},
   "outputs": [],
   "source": [
    "inp = open(\"Input.txt\")\n",
    "\n",
    "pairsAMin = []\n",
    "pairsBMin = []\n",
    "pairsAMax = []\n",
    "pairsBMax = []\n",
    "\n",
    "for line in inp:\n",
    "    pairs = line.split(',')\n",
    "    aPairs = pairs[0].split('-')\n",
    "    bPairs = pairs[1].split('-')\n",
    "    pairsAMin.append(aPairs[0])\n",
    "    pairsAMax.append(aPairs[1])\n",
    "    pairsBMin.append(bPairs[0])\n",
    "    pairsBMax.append(bPairs[1])\n",
    "\n",
    "inp.close()"
   ]
  },
  {
   "cell_type": "code",
   "execution_count": null,
   "id": "67090d7c-8b43-4670-95c0-58540d049b3b",
   "metadata": {},
   "outputs": [],
   "source": [
    "# Part 1\n"
   ]
  }
 ],
 "metadata": {
  "kernelspec": {
   "display_name": "Python 3 (ipykernel)",
   "language": "python",
   "name": "python3"
  },
  "language_info": {
   "codemirror_mode": {
    "name": "ipython",
    "version": 3
   },
   "file_extension": ".py",
   "mimetype": "text/x-python",
   "name": "python",
   "nbconvert_exporter": "python",
   "pygments_lexer": "ipython3",
   "version": "3.10.7"
  }
 },
 "nbformat": 4,
 "nbformat_minor": 5
}
