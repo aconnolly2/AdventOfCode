{
 "cells": [
  {
   "cell_type": "code",
   "execution_count": 26,
   "id": "227e48fc-32c7-4d2e-9b90-33d8ec74089f",
   "metadata": {},
   "outputs": [],
   "source": [
    "inp = open(\"Input.txt\")\n",
    "\n",
    "pairsAMin = []\n",
    "pairsBMin = []\n",
    "pairsAMax = []\n",
    "pairsBMax = []\n",
    "\n",
    "for line in inp:\n",
    "    pairs = line.split(',')\n",
    "    aPairs = pairs[0].split('-')\n",
    "    bPairs = pairs[1].split('-')\n",
    "    pairsAMin.append(aPairs[0])\n",
    "    pairsAMax.append(aPairs[1])\n",
    "    pairsBMin.append(bPairs[0])\n",
    "    pairsBMax.append(bPairs[1])\n",
    "\n",
    "inp.close()"
   ]
  },
  {
   "cell_type": "code",
   "execution_count": 29,
   "id": "67090d7c-8b43-4670-95c0-58540d049b3b",
   "metadata": {},
   "outputs": [
    {
     "name": "stdout",
     "output_type": "stream",
     "text": [
      "651\n"
     ]
    }
   ],
   "source": [
    "# Part 1\n",
    "\n",
    "total = 0\n",
    "for index in range(len(pairsAMin)):\n",
    "    aMin = int(pairsAMin[index])\n",
    "    aMax = int(pairsAMax[index])\n",
    "    bMin = int(pairsBMin[index])\n",
    "    bMax = int(pairsBMax[index])\n",
    "    if ((aMin <= bMin and aMax >= bMax) or (bMin <= aMin and bMax >= aMax)):\n",
    "        total += 1\n",
    "        \n",
    "print(total)"
   ]
  },
  {
   "cell_type": "code",
   "execution_count": 33,
   "id": "645975e1-1ac2-47b1-b4c3-0f2c7c567724",
   "metadata": {},
   "outputs": [
    {
     "name": "stdout",
     "output_type": "stream",
     "text": [
      "956\n"
     ]
    }
   ],
   "source": [
    "# Part 2\n",
    "\n",
    "total = 0\n",
    "for index in range(len(pairsAMin)):\n",
    "    aMin = int(pairsAMin[index])\n",
    "    aMax = int(pairsAMax[index])\n",
    "    bMin = int(pairsBMin[index])\n",
    "    bMax = int(pairsBMax[index])\n",
    "    if (aMax < bMin or bMax < aMin):\n",
    "        total += 1\n",
    "        \n",
    "print(len(pairsAMin) - total)"
   ]
  }
 ],
 "metadata": {
  "kernelspec": {
   "display_name": "Python 3 (ipykernel)",
   "language": "python",
   "name": "python3"
  },
  "language_info": {
   "codemirror_mode": {
    "name": "ipython",
    "version": 3
   },
   "file_extension": ".py",
   "mimetype": "text/x-python",
   "name": "python",
   "nbconvert_exporter": "python",
   "pygments_lexer": "ipython3",
   "version": "3.10.7"
  }
 },
 "nbformat": 4,
 "nbformat_minor": 5
}
