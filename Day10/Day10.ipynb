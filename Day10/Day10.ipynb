{
 "cells": [
  {
   "cell_type": "code",
   "execution_count": 14,
   "id": "c4e4af10-27fd-49e8-82ab-4331d1e06371",
   "metadata": {},
   "outputs": [
    {
     "name": "stdout",
     "output_type": "stream",
     "text": [
      "Tick: 20 Signal: 21\n",
      "Tick: 60 Signal: 21\n",
      "Tick: 100 Signal: 37\n",
      "Tick: 140 Signal: 32\n",
      "Tick: 180 Signal: 9\n",
      "Tick: 220 Signal: 17\n",
      "15220\n"
     ]
    }
   ],
   "source": [
    "#Part 1\n",
    "def checkSignal(t, s):\n",
    "    if t % 40 == 20:\n",
    "        print(f\"Tick: {t} Signal: {s}\")\n",
    "        return t*s\n",
    "    else:\n",
    "        #print(f\"Tick: {t} Signal: {s}\")\n",
    "        return 0\n",
    "\n",
    "signal = 1\n",
    "tick = 0\n",
    "total = 0\n",
    "with open(\"Input10.txt\") as in10:\n",
    "    for line in in10:\n",
    "        if line.startswith(\"addx\"):\n",
    "            tick += 1\n",
    "            total += checkSignal(tick, signal)\n",
    "            tick += 1\n",
    "            total += checkSignal(tick, signal)\n",
    "            signal += int(line.split(\" \")[1].strip())\n",
    "        elif line.startswith(\"noop\"):\n",
    "            tick += 1\n",
    "            total += checkSignal(tick, signal)\n",
    "            \n",
    "print(total)"
   ]
  },
  {
   "cell_type": "code",
   "execution_count": 42,
   "id": "0ddc1189-828c-4a36-b8f8-1c497804fc0c",
   "metadata": {},
   "outputs": [
    {
     "name": "stdout",
     "output_type": "stream",
     "text": [
      "###..####.####.####.#..#.###..####..##..\n",
      "#..#.#.......#.#....#.#..#..#.#....#..#.\n",
      "#..#.###....#..###..##...###..###..#..#.\n",
      "###..#.....#...#....#.#..#..#.#....####.\n",
      "#.#..#....#....#....#.#..#..#.#....#..#.\n",
      "#..#.#....####.####.#..#.###..#....#..#.\n"
     ]
    }
   ],
   "source": [
    "# Part 2\n",
    "def checkPixel(t, s):\n",
    "    if abs((t%40)-s) <= 1:\n",
    "        return \"#\"\n",
    "    else:\n",
    "        return \".\"\n",
    "\n",
    "screen = [[] for x in range(6)]\n",
    "signal = 1\n",
    "tick = 0\n",
    "with open(\"Input10.txt\") as in10:\n",
    "    for line in in10:\n",
    "        if line.startswith(\"addx\"):\n",
    "            screen[tick // 40].append(checkPixel(tick, signal))\n",
    "            tick += 1\n",
    "            screen[tick // 40].append(checkPixel(tick, signal))\n",
    "            tick += 1\n",
    "            signal += int(line.split(\" \")[1].strip())\n",
    "        elif line.startswith(\"noop\"):\n",
    "            screen[tick //40].append(checkPixel(tick, signal))\n",
    "            tick += 1\n",
    "    \n",
    "for line in screen:\n",
    "    linestr = \"\"\n",
    "    for char in line:\n",
    "        linestr += char\n",
    "    print(linestr)"
   ]
  }
 ],
 "metadata": {
  "kernelspec": {
   "display_name": "Python 3 (ipykernel)",
   "language": "python",
   "name": "python3"
  },
  "language_info": {
   "codemirror_mode": {
    "name": "ipython",
    "version": 3
   },
   "file_extension": ".py",
   "mimetype": "text/x-python",
   "name": "python",
   "nbconvert_exporter": "python",
   "pygments_lexer": "ipython3",
   "version": "3.10.7"
  }
 },
 "nbformat": 4,
 "nbformat_minor": 5
}
