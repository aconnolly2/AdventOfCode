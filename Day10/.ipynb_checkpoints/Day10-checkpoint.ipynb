{
 "cells": [
  {
   "cell_type": "code",
   "execution_count": 5,
   "id": "c4e4af10-27fd-49e8-82ab-4331d1e06371",
   "metadata": {},
   "outputs": [
    {
     "name": "stdout",
     "output_type": "stream",
     "text": [
      "Tick: 20 Signal: 28\n",
      "Tick: 40 Signal: -2\n",
      "Tick: 120 Signal: 0\n",
      "Tick: 160 Signal: -2\n",
      "Tick: 160 Signal: 0\n",
      "Tick: 200 Signal: 3\n",
      "Tick: 240 Signal: 21\n",
      "5800\n"
     ]
    }
   ],
   "source": [
    "def checkSignal(t, s):\n",
    "    if (t == 20 or t % 40 == 0):\n",
    "        print(f\"Tick: {t} Signal: {s}\")\n",
    "        return t*s\n",
    "    else:\n",
    "        return 0\n",
    "\n",
    "signal = 0\n",
    "tick = 0\n",
    "total = 0\n",
    "with open(\"TestInput.txt\") as in10:\n",
    "    for line in in10:\n",
    "        if line.startswith(\"addx\"):\n",
    "            signal += int(line.split(\" \")[1].strip())\n",
    "            total += checkSignal(tick, signal)\n",
    "            tick += 1\n",
    "            total += checkSignal(tick, signal)\n",
    "            tick += 1\n",
    "        elif line.startswith(\"noop\"):\n",
    "            tick += 1\n",
    "            total += checkSignal(tick, signal)\n",
    "            \n",
    "print(total)"
   ]
  }
 ],
 "metadata": {
  "kernelspec": {
   "display_name": "Python 3 (ipykernel)",
   "language": "python",
   "name": "python3"
  },
  "language_info": {
   "codemirror_mode": {
    "name": "ipython",
    "version": 3
   },
   "file_extension": ".py",
   "mimetype": "text/x-python",
   "name": "python",
   "nbconvert_exporter": "python",
   "pygments_lexer": "ipython3",
   "version": "3.10.7"
  }
 },
 "nbformat": 4,
 "nbformat_minor": 5
}
