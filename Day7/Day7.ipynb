{
 "cells": [
  {
   "cell_type": "code",
   "execution_count": 39,
   "id": "6f5d0e2e-a900-42ff-8545-a97a171f16d6",
   "metadata": {},
   "outputs": [],
   "source": [
    "from anytree import AnyNode, Node, RenderTree\n",
    "\n",
    "def getChildByName(n, name):\n",
    "    #print(n.children)\n",
    "    for c in n.children:\n",
    "        if (c.name == name):\n",
    "            return c\n",
    "\n",
    "inp = open(\"Input.txt\")\n",
    "\n",
    "tree_fs = Node('dir_/')\n",
    "currentNode = tree_fs\n",
    "for line in inp:\n",
    "    if line.startswith(\"$ cd\"):\n",
    "        command = line.split(' ')\n",
    "        targDir = command[2][:len(command[2]) - 1]\n",
    "        if (targDir == \"..\"):\n",
    "            currentNode = currentNode.parent\n",
    "        else:\n",
    "            targDir = 'dir_' + targDir\n",
    "            currentNode = getChildByName(currentNode, targDir)\n",
    "        #print(currentLocation)\n",
    "    elif line.startswith(\"$ ls\"):\n",
    "        # Do nothing\n",
    "        pass\n",
    "    elif line.startswith(\"dir\"):\n",
    "        directory = line.split(' ')\n",
    "        dirName = directory[1][:len(directory[1]) - 1]\n",
    "        dirName = 'dir_' + dirName\n",
    "        Node(dirName, parent = currentNode)\n",
    "        #print(f\"{dirName} added to {currentDir}\")\n",
    "    else:\n",
    "        file = line.split(' ')\n",
    "        fileName = file[1][:len(file[1]) - 1]\n",
    "        Node(fileName, parent = currentNode, size = int(file[0]))\n",
    "        #print(f\"{fileName} of size {file[0]} added to {currentDir}\")\n",
    "    \n",
    "\n",
    "inp.close()\n",
    "\n",
    "#print(RenderTree(tree_fs))"
   ]
  },
  {
   "cell_type": "code",
   "execution_count": 45,
   "id": "4162f4a9-96aa-4aa3-829e-b599dd258f88",
   "metadata": {},
   "outputs": [
    {
     "name": "stdout",
     "output_type": "stream",
     "text": [
      "1391690\n"
     ]
    }
   ],
   "source": [
    "def getDirectorySize(node):\n",
    "    size = 0\n",
    "    for c in node.children:\n",
    "        if c.name.startswith('dir_'):\n",
    "            size += getDirectorySize(c)\n",
    "        else:\n",
    "            size += c.size\n",
    "    \n",
    "    directorySizes[node] = size\n",
    "    return size\n",
    "\n",
    "directorySizes = {}\n",
    "trueTotal = getDirectorySize(tree_fs)\n",
    "\n",
    "total = 0\n",
    "for key, value in directorySizes.items():\n",
    "    if (value < 100000):\n",
    "        total += value\n",
    "    #print(f\"{key} : {value}\")\n",
    "        \n",
    "print(total)"
   ]
  },
  {
   "cell_type": "code",
   "execution_count": 50,
   "id": "a5b60b83-b766-4688-a5e6-d6d9fd1dfc29",
   "metadata": {},
   "outputs": [
    {
     "name": "stdout",
     "output_type": "stream",
     "text": [
      "5469168\n"
     ]
    }
   ],
   "source": [
    "sortedSizes = dict(sorted(directorySizes.items(), key=lambda item: item[1]))\n",
    "\n",
    "target = 30000000 - (70000000 - trueTotal)\n",
    "for key, value in sortedSizes.items():\n",
    "    if value >= target:\n",
    "        print(value)\n",
    "        break"
   ]
  },
  {
   "cell_type": "code",
   "execution_count": 44,
   "id": "2c41fd7a-5120-4ac2-8863-008b2c33f466",
   "metadata": {},
   "outputs": [
    {
     "name": "stdout",
     "output_type": "stream",
     "text": [
      "1391690\n",
      "5469168\n"
     ]
    }
   ],
   "source": [
    "with open('Input.txt') as f:\n",
    "    output = f.read().splitlines()\n",
    "\n",
    "def get_dir(f, d):\n",
    "    if not d: return f\n",
    "    return get_dir(f[d[0]], d[1:])\n",
    "\n",
    "files = {'/': dict()}\n",
    "pwd = []\n",
    "\n",
    "for line in output:\n",
    "    if line == '$ ls': continue\n",
    "    wd = get_dir(files, pwd)\n",
    "    if line[:3] == 'dir': wd[line[4:]] = dict()\n",
    "    elif '..' in line:    pwd = pwd[:-1]\n",
    "    elif '$ cd' in line:  pwd.append(line[5:])\n",
    "    else:\n",
    "        size, name = line.split()\n",
    "        wd[name] = int(size)\n",
    "\n",
    "sizes = []\n",
    "def du(d):\n",
    "    if type(d) == int: return d\n",
    "    size = sum([du(d[k]) for k in d])\n",
    "    sizes.append(size)\n",
    "    return size\n",
    "\n",
    "req = 30000000 - (70000000 - du(files))\n",
    "r1 = 0\n",
    "r2 = 70000000 \n",
    "for size in sizes:\n",
    "    if size < 100000: r1 += size\n",
    "    if size > req: r2 = min(r2, size)\n",
    "\n",
    "print(r1)\n",
    "print(r2)"
   ]
  }
 ],
 "metadata": {
  "kernelspec": {
   "display_name": "Python 3 (ipykernel)",
   "language": "python",
   "name": "python3"
  },
  "language_info": {
   "codemirror_mode": {
    "name": "ipython",
    "version": 3
   },
   "file_extension": ".py",
   "mimetype": "text/x-python",
   "name": "python",
   "nbconvert_exporter": "python",
   "pygments_lexer": "ipython3",
   "version": "3.10.7"
  }
 },
 "nbformat": 4,
 "nbformat_minor": 5
}
