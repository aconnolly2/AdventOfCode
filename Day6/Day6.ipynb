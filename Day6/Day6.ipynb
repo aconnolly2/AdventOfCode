{
 "cells": [
  {
   "cell_type": "code",
   "execution_count": 12,
   "id": "405121d8-870a-44cd-aff3-6efcd70dee87",
   "metadata": {},
   "outputs": [],
   "source": [
    "inp = open(\"Input.txt\")\n",
    "\n",
    "message = inp.read()\n",
    "\n",
    "inp.close()"
   ]
  },
  {
   "cell_type": "code",
   "execution_count": 15,
   "id": "71afb3d6-f8ca-4941-911e-6d88fe3ad182",
   "metadata": {},
   "outputs": [
    {
     "name": "stdout",
     "output_type": "stream",
     "text": [
      "1855\n"
     ]
    }
   ],
   "source": [
    "# Part 1\n",
    "\n",
    "def isUnique(msg):\n",
    "    unique = set(msg)\n",
    "    if (len(msg) == len(unique)):\n",
    "        return True\n",
    "    else:\n",
    "        return False\n",
    "    \n",
    "def getFirst(message):\n",
    "    marker = []\n",
    "    for i in range(len(message)):\n",
    "        if (len(marker) < 4):\n",
    "            marker.insert(0, message[i])\n",
    "        else:\n",
    "            marker.pop()\n",
    "            marker.insert(0, message[i])\n",
    "            if (isUnique(marker) == True):\n",
    "                return int(i) + 1\n",
    "    \n",
    "print(getFirst(message))"
   ]
  },
  {
   "cell_type": "code",
   "execution_count": 16,
   "id": "94d004b3-36b0-46bc-b9f1-34bea3f6dcc8",
   "metadata": {},
   "outputs": [
    {
     "name": "stdout",
     "output_type": "stream",
     "text": [
      "3256\n"
     ]
    }
   ],
   "source": [
    "# Part 2\n",
    "\n",
    "def getFirst14(message):\n",
    "    marker = []\n",
    "    for i in range(len(message)):\n",
    "        if (len(marker) < 14):\n",
    "            marker.insert(0, message[i])\n",
    "        else:\n",
    "            marker.pop()\n",
    "            marker.insert(0, message[i])\n",
    "            if (isUnique(marker) == True):\n",
    "                return int(i) + 1\n",
    "            \n",
    "print(getFirst14(message))"
   ]
  }
 ],
 "metadata": {
  "kernelspec": {
   "display_name": "Python 3 (ipykernel)",
   "language": "python",
   "name": "python3"
  },
  "language_info": {
   "codemirror_mode": {
    "name": "ipython",
    "version": 3
   },
   "file_extension": ".py",
   "mimetype": "text/x-python",
   "name": "python",
   "nbconvert_exporter": "python",
   "pygments_lexer": "ipython3",
   "version": "3.10.7"
  }
 },
 "nbformat": 4,
 "nbformat_minor": 5
}
