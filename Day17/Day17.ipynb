{
 "cells": [
  {
   "cell_type": "code",
   "execution_count": 1,
   "id": "85b0cef5-89b2-4c69-8e5a-8d34b5ae2be9",
   "metadata": {},
   "outputs": [
    {
     "ename": "SyntaxError",
     "evalue": "'(' was never closed (3882707028.py, line 8)",
     "output_type": "error",
     "traceback": [
      "\u001b[1;36m  Cell \u001b[1;32mIn [1], line 8\u001b[1;36m\u001b[0m\n\u001b[1;33m    def spawnShape(grid\u001b[0m\n\u001b[1;37m                  ^\u001b[0m\n\u001b[1;31mSyntaxError\u001b[0m\u001b[1;31m:\u001b[0m '(' was never closed\n"
     ]
    }
   ],
   "source": [
    "class shape:\n",
    "    def __init__(self, name, width, height, coords):\n",
    "        self.name = name\n",
    "        self.width = width\n",
    "        self.height = height\n",
    "        self.coords = coords\n",
    "        \n",
    "def spawnShape(grid, spawnPoint, shape):\n",
    "    \n",
    "    \n",
    "        \n",
    "square = shape(\"square\", 2, 2, [[\"@\",\"@\"],[\"@\",\"@\"]])\n",
    "lon = shape(\"lon\", 1, 4, [[\"@\"],[\"@\"],[\"@\"],[\"@\"]])\n",
    "corner = shape(\"corner\", 3, 3, [[\".\",\".\",\"@\"],[\".\",\".\",\"@\"],[\"@\",\"@\",\"@\"]])\n",
    "plus = shape(\"plus\", 3, 3, [[\".\",\"@\",\".\"],[\"@\",\"@\",\"@\"],[\".\",\"@\",\".\"]])\n",
    "lat = shape(\"lat\", 4, 1, [[\"@\",\"@\",\"@\",\"@\"]])\n",
    "\n",
    "dirQ = []\n",
    "shapeOrderQ = [square, lon, corner, plus, lat]\n",
    "shapeCount = 2022\n",
    "gridWidth = 9\n",
    "gridHeight = shapeCount * 4\n",
    "grid = [[\".\" for x in range(gridWidth)] for y in range(gridHeight)]\n",
    "for i in range(gridWidth):\n",
    "    grid[gridHeight-1][i] = \"-\"\n",
    "for row in grid:\n",
    "    row[0] = \"|\"\n",
    "    row[gridWidth-1] = \"|\"\n",
    "\n",
    "rockCount = 2022\n",
    "\n",
    "top = 1\n",
    "\n",
    "spawnPoint = [2, top + 4]\n",
    "\n",
    "#grid[gridHeight-spawnPoint[1]][spawnPoint[0]] = \"*\"\n",
    "\n",
    "\n",
    "with open(\"test17.txt\") as inp:\n",
    "    for line in inp:\n",
    "        for c in line.strip():\n",
    "            dirQ.insert(0, c)\n",
    "            \n",
    "for i in range(rockCount):\n",
    "    pass\n",
    "    \n",
    "#for i, row in enumerate(grid):\n",
    "#    r = \"\"# f\"{i}:\"\n",
    "#    for t in row:\n",
    "#        r += t\n",
    "#    print(r)"
   ]
  },
  {
   "cell_type": "code",
   "execution_count": null,
   "id": "34587025-3ebe-4766-9c19-701b9dd1ab67",
   "metadata": {},
   "outputs": [],
   "source": []
  }
 ],
 "metadata": {
  "kernelspec": {
   "display_name": "Python 3 (ipykernel)",
   "language": "python",
   "name": "python3"
  },
  "language_info": {
   "codemirror_mode": {
    "name": "ipython",
    "version": 3
   },
   "file_extension": ".py",
   "mimetype": "text/x-python",
   "name": "python",
   "nbconvert_exporter": "python",
   "pygments_lexer": "ipython3",
   "version": "3.10.7"
  }
 },
 "nbformat": 4,
 "nbformat_minor": 5
}
