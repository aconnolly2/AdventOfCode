{
 "cells": [
  {
   "cell_type": "code",
   "execution_count": 40,
   "id": "b142262f-228f-4bc4-a269-6c1b63b3111c",
   "metadata": {},
   "outputs": [],
   "source": [
    "def getCommonLetter(left, right):\n",
    "    for lLetter in left:\n",
    "        for rLetter in right:\n",
    "            if (lLetter == rLetter):              \n",
    "                #print(f\"{left} {right} : {lLetter}\")\n",
    "                return lLetter\n",
    "\n",
    "def getGroupLetter(groupA, groupB, groupC):\n",
    "    abCommon = []\n",
    "    for aLetter in groupA:\n",
    "        for bLetter in groupB:\n",
    "            if (aLetter == bLetter):\n",
    "                abCommon.append(aLetter)\n",
    "    \n",
    "    for com in abCommon:\n",
    "        for cLetter in groupC:\n",
    "            if (com == cLetter):\n",
    "                return com\n",
    "\n",
    "inp = open(\"Input.txt\")\n",
    "\n",
    "lComp = []\n",
    "rComp = []\n",
    "package = []\n",
    "\n",
    "for line in inp:\n",
    "    package.append(line)\n",
    "    lComp.append(line[:len(line)//2])\n",
    "    rComp.append(line[len(line)//2:])\n",
    "    \n",
    "inp.close()"
   ]
  },
  {
   "cell_type": "code",
   "execution_count": 38,
   "id": "bec216e5-7c73-4290-9ad5-6633965bde2e",
   "metadata": {},
   "outputs": [
    {
     "name": "stdout",
     "output_type": "stream",
     "text": [
      "8401\n"
     ]
    }
   ],
   "source": [
    "# Part 1\n",
    "commonTypes = []\n",
    "\n",
    "for index, i in enumerate(lComp):\n",
    "    commonTypes.append(getCommonLetter(lComp[index], rComp[index]))\n",
    "    \n",
    "totalScore = 0\n",
    "# Uppercase minus 38\n",
    "# Lowercase minus 96\n",
    "for t in commonTypes:\n",
    "    tVal = ord(t) - 38 if t.isupper() else ord(t) - 96\n",
    "    totalScore += tVal\n",
    "        \n",
    "print(totalScore)"
   ]
  },
  {
   "cell_type": "code",
   "execution_count": 52,
   "id": "8f9f5e04-cd76-40d9-82f6-74de0f6384fb",
   "metadata": {},
   "outputs": [
    {
     "name": "stdout",
     "output_type": "stream",
     "text": [
      "2641\n"
     ]
    }
   ],
   "source": [
    "# Part 2\n",
    "totalScore = 0\n",
    "for index in range(len(package)//3):\n",
    "    common = getGroupLetter(package[index*3], package[index*3+1], package[index*3+2])\n",
    "    tVal = ord(common) - 38 if common.isupper() else ord(common) - 96\n",
    "    totalScore += tVal\n",
    "    \n",
    "print(totalScore)"
   ]
  }
 ],
 "metadata": {
  "kernelspec": {
   "display_name": "Python 3 (ipykernel)",
   "language": "python",
   "name": "python3"
  },
  "language_info": {
   "codemirror_mode": {
    "name": "ipython",
    "version": 3
   },
   "file_extension": ".py",
   "mimetype": "text/x-python",
   "name": "python",
   "nbconvert_exporter": "python",
   "pygments_lexer": "ipython3",
   "version": "3.10.7"
  }
 },
 "nbformat": 4,
 "nbformat_minor": 5
}
